{
 "cells": [
  {
   "cell_type": "code",
   "execution_count": 10,
   "id": "initial_id",
   "metadata": {
    "collapsed": true,
    "ExecuteTime": {
     "end_time": "2023-10-07T15:00:55.284651Z",
     "start_time": "2023-10-07T15:00:55.280988Z"
    }
   },
   "outputs": [],
   "source": [
    "import numpy as np\n",
    "import pandas as pd"
   ]
  },
  {
   "cell_type": "code",
   "execution_count": 11,
   "outputs": [],
   "source": [
    "from data_process import importData,XPATH,YPATH,DataClass"
   ],
   "metadata": {
    "collapsed": false,
    "ExecuteTime": {
     "end_time": "2023-10-07T15:00:55.288961Z",
     "start_time": "2023-10-07T15:00:55.286075Z"
    }
   },
   "id": "e5f6fdd38f09a172"
  },
  {
   "cell_type": "code",
   "execution_count": 12,
   "outputs": [
    {
     "data": {
      "text/plain": "(                    TI35111a1.PV TI35111a2.PV TI35111a3.PV TI35111a4.PV  \\\n Time                                                                      \n 2014-05-01 00:00:00      157.875         None    182.34375       188.25   \n 2014-05-01 00:00:30     157.9375    175.78125    182.34375    188.21875   \n 2014-05-01 00:01:00    157.84375    175.78125     182.3125       188.25   \n \n                     TI35111a5.PV TI35111a6.PV TI35111a7.PV TI35111a8.PV  \\\n Time                                                                      \n 2014-05-01 00:00:00     192.6875    197.15625     199.5625     201.9375   \n 2014-05-01 00:00:30     192.6875    197.15625     199.5625      201.875   \n 2014-05-01 00:01:00     192.6875     197.1875    199.53125     201.9375   \n \n                     TI35111a9.PV  MPD  \n Time                                   \n 2014-05-01 00:00:00     203.0625  NaN  \n 2014-05-01 00:00:30     203.0625  NaN  \n 2014-05-01 00:01:00     203.0625  NaN  ,\n                     TI35111a1.PV TI35111a2.PV TI35111a3.PV TI35111a4.PV  \\\n Time                                                                      \n 2014-05-01 00:00:00      157.875    175.78125    182.34375       188.25   \n 2014-05-01 00:00:30     157.9375    175.78125    182.34375    188.21875   \n 2014-05-01 00:01:00    157.84375    175.78125     182.3125       188.25   \n \n                     TI35111a5.PV TI35111a6.PV TI35111a7.PV TI35111a8.PV  \\\n Time                                                                      \n 2014-05-01 00:00:00     192.6875    197.15625     199.5625     201.9375   \n 2014-05-01 00:00:30     192.6875    197.15625     199.5625      201.875   \n 2014-05-01 00:01:00     192.6875     197.1875    199.53125     201.9375   \n \n                     TI35111a9.PV  MPD  \n Time                                   \n 2014-05-01 00:00:00     203.0625  NaN  \n 2014-05-01 00:00:30     203.0625  NaN  \n 2014-05-01 00:01:00     203.0625  NaN  )"
     },
     "execution_count": 12,
     "metadata": {},
     "output_type": "execute_result"
    }
   ],
   "source": [
    "DFcls = DataClass()\n",
    "delaylist=[0]*DFcls.features_num\n",
    "delaylist[1] = 1\n",
    "df = DFcls.get_Shift_data(delaylist)\n",
    "df.head(3),DFcls.df.head(3)\n",
    "\n",
    "\n",
    "\n"
   ],
   "metadata": {
    "collapsed": false,
    "ExecuteTime": {
     "end_time": "2023-10-07T15:00:55.844088Z",
     "start_time": "2023-10-07T15:00:55.290647Z"
    }
   },
   "id": "46e860f4f864e76d"
  }
 ],
 "metadata": {
  "kernelspec": {
   "display_name": "Python 3",
   "language": "python",
   "name": "python3"
  },
  "language_info": {
   "codemirror_mode": {
    "name": "ipython",
    "version": 2
   },
   "file_extension": ".py",
   "mimetype": "text/x-python",
   "name": "python",
   "nbconvert_exporter": "python",
   "pygments_lexer": "ipython2",
   "version": "2.7.6"
  }
 },
 "nbformat": 4,
 "nbformat_minor": 5
}
